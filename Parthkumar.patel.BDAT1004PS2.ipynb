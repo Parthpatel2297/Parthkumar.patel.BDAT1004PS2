{
 "cells": [
  {
   "cell_type": "markdown",
   "metadata": {},
   "source": [
    "# <span style='color: red'> PROBLEM SET: 2 </span>"
   ]
  },
  {
   "cell_type": "markdown",
   "metadata": {},
   "source": [
    "### Q.1. What value is displayed when the last expression (a) is evaluated? Explain your answer by indicating what happens in every executed statement."
   ]
  },
  {
   "cell_type": "code",
   "execution_count": 1,
   "metadata": {},
   "outputs": [],
   "source": [
    "a = 0\n",
    "\n",
    "def b():\n",
    "    global a\n",
    "    a = c(a)\n",
    "\n",
    "def c(a):\n",
    "    return a + 2\n",
    "\n",
    "b()\n"
   ]
  },
  {
   "cell_type": "code",
   "execution_count": 2,
   "metadata": {},
   "outputs": [],
   "source": [
    "b()"
   ]
  },
  {
   "cell_type": "code",
   "execution_count": 3,
   "metadata": {},
   "outputs": [],
   "source": [
    "b()"
   ]
  },
  {
   "cell_type": "code",
   "execution_count": 4,
   "metadata": {},
   "outputs": [
    {
     "data": {
      "text/plain": [
       "6"
      ]
     },
     "execution_count": 4,
     "metadata": {},
     "output_type": "execute_result"
    }
   ],
   "source": [
    "a"
   ]
  },
  {
   "cell_type": "markdown",
   "metadata": {},
   "source": [
    "### Q.2. Function fileLength(), given to you, takes the name of a file as input and returns the length of the file:"
   ]
  },
  {
   "cell_type": "code",
   "execution_count": 5,
   "metadata": {},
   "outputs": [],
   "source": [
    "def fileLength(Filelength):\n",
    "    try:\n",
    "        infile = open(Filelength)\n",
    "        content = infile.read()\n",
    "        infile.close()\n",
    "        return len(content)\n",
    "    except FileNotFoundError:\n",
    "        print(f\"File {Filelength} not found.\")\n",
    "\n"
   ]
  },
  {
   "cell_type": "code",
   "execution_count": 6,
   "metadata": {},
   "outputs": [
    {
     "name": "stdout",
     "output_type": "stream",
     "text": [
      "File midterm.py not found.\n",
      "File idterm.py not found.\n"
     ]
    }
   ],
   "source": [
    "fileLength('midterm.py')\n",
    "fileLength('idterm.py')"
   ]
  },
  {
   "cell_type": "markdown",
   "metadata": {},
   "source": [
    "### Q.3. Write a class named Marsupial that can be used as shown below:"
   ]
  },
  {
   "cell_type": "code",
   "execution_count": 7,
   "metadata": {},
   "outputs": [],
   "source": [
    "class Marsupial:\n",
    "    def __init__(self):\n",
    "        self.pouch = []\n",
    "        \n",
    "    def put_in_pouch(self, item):\n",
    "        self.pouch.append(item)\n",
    "        \n",
    "    def pouch_contents(self):\n",
    "        return self.pouch\n",
    "\n",
    "\n",
    "class Kangaroo(Marsupial):\n",
    "    def __init__(self, x, y):\n",
    "        super().__init__()\n",
    "        self.x = x\n",
    "        self.y = y\n",
    "        \n",
    "    def jump(self, dx, dy):\n",
    "        self.x += dx\n",
    "        self.y += dy\n",
    "        \n",
    "    def __str__(self):\n",
    "        return f\"I am a Kangaroo located at coordinates ({self.x},{self.y})\"\n"
   ]
  },
  {
   "cell_type": "code",
   "execution_count": 8,
   "metadata": {},
   "outputs": [
    {
     "name": "stdout",
     "output_type": "stream",
     "text": [
      "['doll', 'firetruck', 'kitten']\n",
      "I am a Kangaroo located at coordinates (0,0)\n",
      "['doll', 'firetruck', 'kitten']\n",
      "I am a Kangaroo located at coordinates (3,0)\n"
     ]
    }
   ],
   "source": [
    "m = Marsupial()\n",
    "m.put_in_pouch('doll')\n",
    "m.put_in_pouch('firetruck')\n",
    "m.put_in_pouch('kitten')\n",
    "print(m.pouch_contents())\n",
    "\n",
    "k = Kangaroo(0, 0)\n",
    "print(k)\n",
    "k.put_in_pouch('doll')\n",
    "k.put_in_pouch('firetruck')\n",
    "k.put_in_pouch('kitten')\n",
    "print(k.pouch_contents())\n",
    "k.jump(1, 0)\n",
    "k.jump(1, 0)\n",
    "k.jump(1, 0)\n",
    "print(k)"
   ]
  },
  {
   "cell_type": "markdown",
   "metadata": {},
   "source": [
    "### Q.4. Write function collatz() that takes a positive integer x as input and prints the Collatz sequence starting at x. A Collatz sequence is obtained by repeatedly applying this rule to the previous number x in the sequence:"
   ]
  },
  {
   "cell_type": "code",
   "execution_count": 9,
   "metadata": {},
   "outputs": [],
   "source": [
    "def collatz(x):\n",
    "    print(x)\n",
    "    if x == 1:\n",
    "        return\n",
    "    if x % 2 == 0:\n",
    "        collatz(x // 2)\n",
    "    else:\n",
    "        collatz(3 * x + 1)\n"
   ]
  },
  {
   "cell_type": "code",
   "execution_count": 10,
   "metadata": {},
   "outputs": [
    {
     "name": "stdout",
     "output_type": "stream",
     "text": [
      "1\n",
      "\n",
      "10\n",
      "5\n",
      "16\n",
      "8\n",
      "4\n",
      "2\n",
      "1\n"
     ]
    }
   ],
   "source": [
    "collatz(1)\n",
    "print()\n",
    "collatz(10)"
   ]
  },
  {
   "cell_type": "markdown",
   "metadata": {},
   "source": [
    "### Q.5. Write a recursive method binary() that takes a non-negative integer n and prints the binary representation of integer n."
   ]
  },
  {
   "cell_type": "code",
   "execution_count": 11,
   "metadata": {},
   "outputs": [],
   "source": [
    "def binary(n):\n",
    "    if n > 1:\n",
    "        binary(n // 2)\n",
    "    print(n % 2, end='')"
   ]
  },
  {
   "cell_type": "code",
   "execution_count": 12,
   "metadata": {},
   "outputs": [
    {
     "name": "stdout",
     "output_type": "stream",
     "text": [
      "0\n",
      "1\n",
      "11\n",
      "1001"
     ]
    }
   ],
   "source": [
    "binary(0)       \n",
    "print()\n",
    "binary(1)\n",
    "print()\n",
    "binary(3)\n",
    "print()\n",
    "binary(9)"
   ]
  },
  {
   "cell_type": "markdown",
   "metadata": {},
   "source": [
    "### Q.6. Implement a class named HeadingParser that can be used to parse an HTML document, and retrieve and print all the headings in the document. You should implement your class as a subclass of HTMLParser, defined in Standard Library module html.parser. When fed a string containing HTML code, your class should print the headings, one per line and in the order in which they appear in the document. Each heading should be indented as follows: an h1 heading should have indentation 0, and h2 heading should have indentation 1, etc. Test your implementation using w3c."
   ]
  },
  {
   "cell_type": "code",
   "execution_count": 13,
   "metadata": {},
   "outputs": [],
   "source": [
    "from html.parser import HTMLParser\n",
    "\n",
    "class HeadingParser(HTMLParser):\n",
    "    def __init__(self):\n",
    "        super().__init__()\n",
    "        self.in_heading = False\n",
    "        self.indentation = 0\n",
    "    \n",
    "    def handle_starttag(self, tag, attrs):\n",
    "        if tag.startswith('h') and tag[1:].isdigit():\n",
    "            self.in_heading = True\n",
    "            self.indentation = int(tag[1:]) - 1\n",
    "    \n",
    "    def handle_data(self, data):\n",
    "        if self.in_heading:\n",
    "            print(' ' * self.indentation + data)\n",
    "    \n",
    "    def handle_endtag(self, tag):\n",
    "        if tag.startswith('h') and tag[1:].isdigit():\n",
    "            self.in_heading = False"
   ]
  },
  {
   "cell_type": "code",
   "execution_count": 14,
   "metadata": {},
   "outputs": [],
   "source": [
    "infile = open('w3c.html')           \n",
    "content = infile.read()\n",
    "infile.close()\n",
    "\n",
    "hp = HeadingParser()\n",
    "hp.feed(content)"
   ]
  },
  {
   "cell_type": "markdown",
   "metadata": {},
   "source": [
    "### Q.7. Implement recursive function webdir() that takes as input: a URL (as a string) and non-negative integers depth and indent. Your function should visit every web page reachable from the starting URL web page in depth clicks or less, and print each web page's URL. As shown below, indentation, specified by indent, should be used to indicate the depth of a URL.\n"
   ]
  },
  {
   "cell_type": "code",
   "execution_count": 15,
   "metadata": {},
   "outputs": [],
   "source": [
    "import requests\n",
    "from bs4 import BeautifulSoup\n",
    "\n",
    "def webdir(url, depth, indent):\n",
    "    # Base case: if depth is zero, just print the URL\n",
    "    if depth < 0:\n",
    "        return\n",
    "\n",
    "    # Print the current URL with indentation\n",
    "    print(' ' * indent + url)\n",
    "\n",
    "    try:\n",
    "        # Fetch the content of the URL\n",
    "        response = requests.get(url)\n",
    "        response.raise_for_status()  # Raise an error for bad responses (4xx, 5xx)\n",
    "\n",
    "        # Parse the content\n",
    "        soup = BeautifulSoup(response.text, 'html.parser')\n",
    "\n",
    "        # Find all links in the web page\n",
    "        links = soup.find_all('a', href=True)\n",
    "\n",
    "        # Recursively visit each link\n",
    "        for link in links:\n",
    "            # Construct the absolute URL\n",
    "            next_url = link['href']\n",
    "            if next_url.startswith('/'):\n",
    "                # Relative link; prepend the base URL\n",
    "                next_url = requests.compat.urljoin(url, next_url)\n",
    "\n",
    "            # Call webdir on the next URL with decreased depth and increased indent\n",
    "            webdir(next_url, depth - 1, indent + 2)\n",
    "\n",
    "    except Exception as e:\n",
    "        print(f'Error fetching {url}: {e}')"
   ]
  },
  {
   "cell_type": "code",
   "execution_count": 16,
   "metadata": {},
   "outputs": [
    {
     "name": "stdout",
     "output_type": "stream",
     "text": [
      "http://reed.cs.depaul.edu/lperkovic/csc242/test1.html\n",
      "Error fetching http://reed.cs.depaul.edu/lperkovic/csc242/test1.html: 404 Client Error:  for url: http://reed.cs.depaul.edu/lperkovic/csc242/test1.html\n"
     ]
    }
   ],
   "source": [
    "webdir('http://reed.cs.depaul.edu/lperkovic/csc242/test1.html', 2, 0)"
   ]
  },
  {
   "cell_type": "markdown",
   "metadata": {},
   "source": [
    "### Q.8. Write SQL queries on the below database table that return: "
   ]
  },
  {
   "cell_type": "code",
   "execution_count": 17,
   "metadata": {},
   "outputs": [
    {
     "data": {
      "text/plain": [
       "<sqlite3.Cursor at 0x13986bfa030>"
      ]
     },
     "execution_count": 17,
     "metadata": {},
     "output_type": "execute_result"
    }
   ],
   "source": [
    "import sqlite3\n",
    "\n",
    "# Create a connection to an in-memory database\n",
    "conn = sqlite3.connect(':memory:')\n",
    "cur = conn.cursor()\n",
    "\n",
    "# Create a table WeatherData and insert sample data\n",
    "cur.execute('''\n",
    "    CREATE TABLE WeatherData (\n",
    "        City TEXT,\n",
    "        Country TEXT,\n",
    "        Season TEXT,\n",
    "        Temperature FLOAT,\n",
    "        Rainfall FLOAT\n",
    "    )\n",
    "''')\n",
    "\n"
   ]
  },
  {
   "cell_type": "code",
   "execution_count": 18,
   "metadata": {},
   "outputs": [
    {
     "data": {
      "text/plain": [
       "<sqlite3.Cursor at 0x13986bfa030>"
      ]
     },
     "execution_count": 18,
     "metadata": {},
     "output_type": "execute_result"
    }
   ],
   "source": [
    "data = [\n",
    "    ('Mumbai', 'India', 'Winter', 24.8, 5.9),\n",
    "    ('Mumbai', 'India', 'Spring ', 28.4, 16.2),\n",
    "    ('Mumbai', 'India', 'Summer', 27.9, 1549.4),\n",
    "    ('Mumbai', 'India', 'Fall', 27.6, 346.0),\n",
    "    ('London', 'United Kingdom', 'Winter', 4.2, 207.7),\n",
    "    ('London', 'United Kingdom', 'Spring', 8.3, 169.6),\n",
    "    ('London', 'United Kingdom', 'Summer', 15.7, 157.0),\n",
    "    ('London', 'United Kingdom', 'Fall', 10.4, 218.5),\n",
    "    ('Cairo', 'Egypt', 'Winter', 13.6, 16.5),\n",
    "    ('Cairo', 'Egypt', 'Spring', 20.7, 6.5),\n",
    "    ('Cairo', 'Egypt', 'Summer', 27.7, 0.1),\n",
    "    ('Cairo', 'Egypt', 'Fall', 22.2, 4.5)\n",
    "]\n",
    "\n",
    "cur.executemany('INSERT INTO WeatherData VALUES (?, ?, ?, ?, ?)', data)"
   ]
  },
  {
   "cell_type": "code",
   "execution_count": 19,
   "metadata": {},
   "outputs": [],
   "source": [
    "# SQL QUERIES\n",
    "queries = [\n",
    "    \"SELECT Temperature FROM WeatherData;\",\n",
    "    \"SELECT DISTINCT City FROM WeatherData;\",\n",
    "    \"SELECT * FROM WeatherData WHERE Country = 'India';\",\n",
    "    \"SELECT * FROM WeatherData WHERE Season = 'Fall';\",\n",
    "    \"SELECT City, Country, Season FROM WeatherData GROUP BY City, Country, Season HAVING AVG(Rainfall) BETWEEN 200 AND 400;\",\n",
    "    \"SELECT City, Country FROM WeatherData WHERE Season = 'Fall' GROUP BY City, Country HAVING AVG(Temperature) > 20 ORDER BY AVG(Temperature) ASC;\",\n",
    "    \"SELECT SUM(Rainfall) AS TotalRainfall FROM WeatherData WHERE City = 'Cairo';\",\n",
    "    \"SELECT Season, SUM(Rainfall) AS TotalRainfall FROM WeatherData GROUP BY Season;\"\n",
    "]"
   ]
  },
  {
   "cell_type": "code",
   "execution_count": 20,
   "metadata": {},
   "outputs": [
    {
     "name": "stdout",
     "output_type": "stream",
     "text": [
      "[(24.8,), (28.4,), (27.9,), (27.6,), (4.2,), (8.3,), (15.7,), (10.4,), (13.6,), (20.7,), (27.7,), (22.2,)]\n",
      "[('Mumbai',), ('London',), ('Cairo',)]\n",
      "[('Mumbai', 'India', 'Winter', 24.8, 5.9), ('Mumbai', 'India', 'Spring ', 28.4, 16.2), ('Mumbai', 'India', 'Summer', 27.9, 1549.4), ('Mumbai', 'India', 'Fall', 27.6, 346.0)]\n",
      "[('Mumbai', 'India', 'Fall', 27.6, 346.0), ('London', 'United Kingdom', 'Fall', 10.4, 218.5), ('Cairo', 'Egypt', 'Fall', 22.2, 4.5)]\n",
      "[('London', 'United Kingdom', 'Fall'), ('London', 'United Kingdom', 'Winter'), ('Mumbai', 'India', 'Fall')]\n",
      "[('Cairo', 'Egypt'), ('Mumbai', 'India')]\n",
      "[(27.6,)]\n",
      "[('Fall', 569.0), ('Spring', 176.1), ('Spring ', 16.2), ('Summer', 1706.5), ('Winter', 230.1)]\n"
     ]
    }
   ],
   "source": [
    "\n",
    "# Execute the queries and print the results\n",
    "for query in queries:\n",
    "    cur.execute(query)\n",
    "    results = cur.fetchall()\n",
    "    print(results)\n",
    "\n",
    "# Close the connection\n",
    "conn.close()"
   ]
  },
  {
   "cell_type": "code",
   "execution_count": 21,
   "metadata": {},
   "outputs": [
    {
     "name": "stdout",
     "output_type": "stream",
     "text": [
      "[('Fall', 569.0), ('Spring', 176.1), ('Spring ', 16.2), ('Summer', 1706.5), ('Winter', 230.1)]\n"
     ]
    }
   ],
   "source": [
    " print(results)"
   ]
  },
  {
   "cell_type": "markdown",
   "metadata": {},
   "source": [
    "### Que.9.  Suppose list words is defined as follows:"
   ]
  },
  {
   "cell_type": "code",
   "execution_count": 22,
   "metadata": {},
   "outputs": [],
   "source": [
    "# Given list\n",
    "words = ['The', 'quick', 'brown', 'fox', 'jumps', 'over', 'the', 'lazy', 'dog']"
   ]
  },
  {
   "cell_type": "code",
   "execution_count": 23,
   "metadata": {},
   "outputs": [
    {
     "name": "stdout",
     "output_type": "stream",
     "text": [
      "['THE', 'QUICK', 'BROWN', 'FOX', 'JUMPS', 'OVER', 'THE', 'LAZY', 'DOG']\n"
     ]
    }
   ],
   "source": [
    "# a) List of words in uppercase\n",
    "upper_words = [word.upper() for word in words]\n",
    "print(upper_words)"
   ]
  },
  {
   "cell_type": "code",
   "execution_count": 24,
   "metadata": {},
   "outputs": [
    {
     "name": "stdout",
     "output_type": "stream",
     "text": [
      "['the', 'quick', 'brown', 'fox', 'jumps', 'over', 'the', 'lazy', 'dog']\n"
     ]
    }
   ],
   "source": [
    "# b) List of words in lowercase\n",
    "lower_words = [word.lower() for word in words]\n",
    "print(lower_words)"
   ]
  },
  {
   "cell_type": "code",
   "execution_count": 25,
   "metadata": {},
   "outputs": [
    {
     "name": "stdout",
     "output_type": "stream",
     "text": [
      "[3, 5, 5, 3, 5, 4, 3, 4, 3]\n"
     ]
    }
   ],
   "source": [
    "# c) List of lengths of words\n",
    "word_lengths = [len(word) for word in words]\n",
    "print(word_lengths)"
   ]
  },
  {
   "cell_type": "code",
   "execution_count": 26,
   "metadata": {},
   "outputs": [
    {
     "name": "stdout",
     "output_type": "stream",
     "text": [
      "[['THE', 'the', 3], ['QUICK', 'quick', 5], ['BROWN', 'brown', 5], ['FOX', 'fox', 3], ['JUMPS', 'jumps', 5], ['OVER', 'over', 4], ['THE', 'the', 3], ['LAZY', 'lazy', 4], ['DOG', 'dog', 3]]\n"
     ]
    }
   ],
   "source": [
    "# d) List containing each word in uppercase, lowercase, and length\n",
    "word_info = [[word.upper(), word.lower(), len(word)] for word in words]\n",
    "print(word_info)"
   ]
  },
  {
   "cell_type": "code",
   "execution_count": 27,
   "metadata": {},
   "outputs": [
    {
     "name": "stdout",
     "output_type": "stream",
     "text": [
      "['quick', 'brown', 'jumps', 'over', 'lazy']\n"
     ]
    }
   ],
   "source": [
    "# e) List of words with 4 or more characters\n",
    "long_words = [word for word in words if len(word) >= 4]\n",
    "print(long_words)"
   ]
  },
  {
   "cell_type": "code",
   "execution_count": null,
   "metadata": {},
   "outputs": [],
   "source": []
  }
 ],
 "metadata": {
  "kernelspec": {
   "display_name": "Python 3",
   "language": "python",
   "name": "python3"
  },
  "language_info": {
   "codemirror_mode": {
    "name": "ipython",
    "version": 3
   },
   "file_extension": ".py",
   "mimetype": "text/x-python",
   "name": "python",
   "nbconvert_exporter": "python",
   "pygments_lexer": "ipython3",
   "version": "3.7.6"
  }
 },
 "nbformat": 4,
 "nbformat_minor": 4
}
